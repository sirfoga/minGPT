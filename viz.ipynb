{
 "cells": [
  {
   "cell_type": "code",
   "execution_count": 1,
   "id": "appointed-prophet",
   "metadata": {},
   "outputs": [],
   "source": [
    "%load_ext autoreload\n",
    "%reload_ext autoreload\n",
    "%autoreload 2"
   ]
  },
  {
   "cell_type": "code",
   "execution_count": 2,
   "id": "coordinate-lounge",
   "metadata": {},
   "outputs": [],
   "source": [
    "import numpy as np\n",
    "import torchvision\n",
    "import torch\n",
    "\n",
    "import matplotlib.pyplot as plt\n",
    "\n",
    "from pathlib import Path\n",
    "import logging\n",
    "\n",
    "import time\n",
    "\n",
    "import pickle\n",
    "from sklearn.model_selection import train_test_split\n",
    "\n",
    "from torch.utils.data import TensorDataset, DataLoader\n",
    "from torch.utils.data import Dataset\n",
    "\n",
    "from mingpt.utils import set_seed, sample\n",
    "from mingpt.model import GPT, GPTConfig\n",
    "from mingpt.trainer import Trainer, TrainerConfig\n",
    "\n",
    "import os"
   ]
  },
  {
   "cell_type": "code",
   "execution_count": 3,
   "id": "ordered-ivory",
   "metadata": {},
   "outputs": [],
   "source": [
    "set_seed(42)  # make deterministic"
   ]
  },
  {
   "cell_type": "code",
   "execution_count": 4,
   "id": "configured-genome",
   "metadata": {},
   "outputs": [],
   "source": [
    "model_file = './best_model.pt'\n",
    "data_path = './data/brain.pkl'"
   ]
  },
  {
   "cell_type": "code",
   "execution_count": 5,
   "id": "nasty-appeal",
   "metadata": {},
   "outputs": [],
   "source": [
    "GPT_S = dict(\n",
    "    embd_pdrop=0.0,\n",
    "    resid_pdrop=0.0,\n",
    "    attn_pdrop=0.0,\n",
    "    n_layer=24,\n",
    "    n_head=8,\n",
    "    n_embd=512,\n",
    ")\n",
    "\n",
    "\n",
    "def now_utc():  # unix time\n",
    "    seconds = round(time.time())\n",
    "    millis = seconds * 1000\n",
    "    unix = int(millis)\n",
    "    return unix\n",
    "\n",
    "\n",
    "def load_pickle(f_path):\n",
    "    with open(f_path, 'rb') as fp:\n",
    "        return pickle.load(fp)\n",
    "\n",
    "\n",
    "def get_model(mconf):\n",
    "    return GPT(mconf)"
   ]
  },
  {
   "cell_type": "code",
   "execution_count": 6,
   "id": "approved-texture",
   "metadata": {},
   "outputs": [],
   "source": [
    "MY_GPT = dict(\n",
    "    n_layer=16,\n",
    "    n_embd=256\n",
    ")\n",
    "MY_GPT = {**GPT_S, **MY_GPT}  # inherit all other params\n",
    "\n",
    "    \n",
    "mconf = GPTConfig(\n",
    "    256,\n",
    "    1023,\n",
    "    **MY_GPT,\n",
    "    bert=False,\n",
    "    use_embd=True,\n",
    ")"
   ]
  },
  {
   "cell_type": "code",
   "execution_count": 7,
   "id": "original-digit",
   "metadata": {},
   "outputs": [
    {
     "data": {
      "text/plain": [
       "<All keys matched successfully>"
      ]
     },
     "execution_count": 7,
     "metadata": {},
     "output_type": "execute_result"
    }
   ],
   "source": [
    "device = torch.device('cpu')\n",
    "model = get_model(mconf)\n",
    "model.load_state_dict(torch.load(model_file, map_location=device))"
   ]
  },
  {
   "cell_type": "code",
   "execution_count": 8,
   "id": "checked-details",
   "metadata": {},
   "outputs": [],
   "source": [
    "def get_train_test_split(X, y, test_size, random_state=42, verbose=False):\n",
    "    X_train, X_test, y_train, y_test = train_test_split(\n",
    "        X, y,\n",
    "        test_size=test_size,\n",
    "        random_state=random_state  # reproducible results\n",
    "    )\n",
    "\n",
    "    if verbose:\n",
    "        logging.getLogger(__name__).info('train data: X ~ {}, y ~ {}'.format(X_train.shape, y_train.shape))\n",
    "        logging.getLogger(__name__).info('test data: X ~ {}, y ~ {}'.format(X_test.shape, y_test.shape))\n",
    "\n",
    "\n",
    "    return X_train, X_test, y_train, y_test\n",
    "\n",
    "\n",
    "def get_data(file_path, max_imgs=2000):\n",
    "    dataset = load_pickle(Path(file_path).expanduser())\n",
    "\n",
    "    if len(dataset) == 2:  # (images, masks)\n",
    "        X = dataset[0]  # list of images\n",
    "        y = dataset[1]  # list of corresponding mask\n",
    "    else:  # unsupervised list of images\n",
    "        X = np.array(dataset, dtype='float32')[:max_imgs]\n",
    "        y = np.zeros(len(X))\n",
    "\n",
    "    pixel_size = X.shape[1]  # should be == X.shape[2] == 32\n",
    "    X = np.array(np.ceil(X * 255), dtype='float32')  # convert pixels to [0, 255] range\n",
    "    y = np.array(np.ceil(y * 255), dtype='float32')\n",
    "\n",
    "    X_train, X_test, y_train, y_test = get_train_test_split(X, y, 0.3, verbose=True)\n",
    "\n",
    "    tensor_X_train = torch.Tensor(X_train)  # tensors\n",
    "    tensor_y_train = torch.Tensor(y_train)\n",
    "    tensor_X_test = torch.Tensor(X_test)\n",
    "    tensor_y_test = torch.Tensor(y_test)\n",
    "\n",
    "    t_train_dataset = TensorDataset(tensor_X_train, tensor_y_train)\n",
    "    t_test_dataset = TensorDataset(tensor_X_test, tensor_y_test)\n",
    "\n",
    "    return t_train_dataset, t_test_dataset, X_train\n",
    "\n",
    "\n",
    "class ImageDataset(Dataset):\n",
    "    def __init__(self, pt_dataset, perm=None):\n",
    "        self.pt_dataset = pt_dataset\n",
    "\n",
    "        flattened_image_size = 32 * 32\n",
    "        self.perm = torch.arange(flattened_image_size) if perm is None else perm\n",
    "\n",
    "        self.vocab_size = 256  # possible values for pixels\n",
    "        self.block_size = flattened_image_size - 1\n",
    "\n",
    "    def __len__(self):\n",
    "        return len(self.pt_dataset)\n",
    "\n",
    "    def __getitem__(self, idx):\n",
    "        image_channels = 1  # grayscale\n",
    "\n",
    "        x, y = self.pt_dataset[idx]\n",
    "        x = torch.from_numpy(np.array(x)).view(-1, image_channels)  # flatten out all pixels\n",
    "        x = x[self.perm].float()  # reshuffle pixels with any fixed permutation and -> float\n",
    "        a = x[:, 0]\n",
    "        return a[:-1], a[1:]  # always just predict the next one in the sequence\n",
    "    \n",
    "    \n",
    "def sample_some(trainer, model, dataset, X_train, n_samples=40, out_path='./samples.png'):\n",
    "    prob = model_first_token(dataset, X_train)\n",
    "\n",
    "    start_pixel = np.random.choice(np.arange(dataset.vocab_size), size=(n_samples, 1), replace=True, p=prob.numpy())\n",
    "    start_pixel = torch.from_numpy(start_pixel).to(trainer.device)\n",
    "    flattened_image_size = 32 * 32\n",
    "    pixels = sample(model, start_pixel, flattened_image_size - 1, temperature=1.0, sample=True, top_k=40)\n",
    "\n",
    "    # for visualization we have to invert the permutation used to produce the pixels\n",
    "    iperm = torch.argsort(dataset.perm)\n",
    "\n",
    "    pixel_size = 32\n",
    "\n",
    "    n_cols = 8\n",
    "    n_rows = n_samples // n_cols\n",
    "    fig, axis = plt.subplots(n_rows, n_cols, figsize=(16, 8))\n",
    "    for i, ax in enumerate(axis.ravel()):\n",
    "        pxi = pixels[i][iperm]  # undo the encoding permutation\n",
    "        pxi = pxi.view(pixel_size, pixel_size).cpu().numpy().astype(np.uint8)  # grayscale -> 2D\n",
    "\n",
    "        ax.imshow(pxi, cmap='magma')\n",
    "        ax.axis('off')\n",
    "\n",
    "    plt.savefig(out_path)\n",
    "    \n",
    "    \n",
    "def train(model, n_epochs, train_dataset, test_dataset, checkpoint_path):\n",
    "    tokens_per_epoch = len(train_dataset) * train_dataset.block_size\n",
    "\n",
    "    # initialize a trainer instance and kick off training\n",
    "    tconf = TrainerConfig(\n",
    "        max_epochs=n_epochs,\n",
    "        batch_size=4,\n",
    "        learning_rate=3e-3,\n",
    "        betas=(0.9, 0.95),\n",
    "        weight_decay=0,\n",
    "        lr_decay=True,\n",
    "        warmup_tokens=tokens_per_epoch,\n",
    "        final_tokens=n_epochs * tokens_per_epoch,\n",
    "        ckpt_path=checkpoint_path,\n",
    "        num_workers=1\n",
    "    )\n",
    "    trainer = Trainer(model, train_dataset, test_dataset, tconf)\n",
    "    # already train trainer.train()\n",
    "\n",
    "    return trainer\n",
    "\n",
    "\n",
    "def model_first_token(dataset, X_train, n_clusters=256):\n",
    "    counts = torch.ones(n_clusters)  # start counts as 1 not zero, this is called \"smoothing\"\n",
    "    rp = torch.randperm(len(dataset))\n",
    "    nest = X_train.shape[0] // 2  # how many images to use for the estimation\n",
    "\n",
    "    for i in range(nest):\n",
    "        a, _ = dataset[int(rp[i])]\n",
    "        t = a[0].item()  # index of first token in the sequence\n",
    "        counts[int(t)] += 1\n",
    "\n",
    "    prob = counts / counts.sum()  # normalize to have sum (prob) = 1\n",
    "    return prob"
   ]
  },
  {
   "cell_type": "code",
   "execution_count": 9,
   "id": "continued-citizen",
   "metadata": {},
   "outputs": [],
   "source": [
    "t_train_dataset, t_test_dataset, X_train = get_data(data_path)  # raw data\n",
    "train_dataset = ImageDataset(t_train_dataset)  # build dataset\n",
    "test_dataset = ImageDataset(t_test_dataset)\n",
    "\n",
    "trainer = train(model, 50, train_dataset, test_dataset, './latest_model.pt')"
   ]
  },
  {
   "cell_type": "code",
   "execution_count": 15,
   "id": "floating-grove",
   "metadata": {},
   "outputs": [
    {
     "name": "stdout",
     "output_type": "stream",
     "text": [
      "4 10 2\n"
     ]
    }
   ],
   "source": [
    "b, t, d = token_embeddings.size()\n",
    "print(b, t, d)"
   ]
  },
  {
   "cell_type": "code",
   "execution_count": 28,
   "id": "alleged-kentucky",
   "metadata": {},
   "outputs": [
    {
     "data": {
      "image/png": "[encoded data removed]",
      "text/plain": [
       "<Figure size 1152x576 with 4 Axes>"
      ]
     },
     "metadata": {
      "needs_background": "light"
     },
     "output_type": "display_data"
    }
   ],
   "source": [
    "token_embeddings = torch.rand(4, 10, 2)\n",
    "_b, _t, _d = token_embeddings.size()\n",
    "\n",
    "n_cols = 4\n",
    "n_rows = 1\n",
    "fig, axis = plt.subplots(n_rows, n_cols, figsize=(16, 8))\n",
    "for i, ax in enumerate(axis.ravel()):\n",
    "    ti = token_embeddings[i]\n",
    "    ti = ti.view(_t, _d).numpy()\n",
    "\n",
    "    ax.imshow(ti, cmap='jet')\n",
    "    # ax.axis('off')\n",
    "    \n",
    "    # ax.set_xlim(0, 1)\n",
    "    # ax.set_ylim(0, 10)\n",
    "    ax.set_aspect(aspect=2.0/10.0)\n",
    "\n",
    "    \n",
    "plt.tight_layout()\n",
    "# plt.savefig('wowee.png')"
   ]
  }
 ],
 "metadata": {
  "kernelspec": {
   "display_name": "torch",
   "language": "python",
   "name": "torch"
  },
  "language_info": {
   "codemirror_mode": {
    "name": "ipython",
    "version": 3
   },
   "file_extension": ".py",
   "mimetype": "text/x-python",
   "name": "python",
   "nbconvert_exporter": "python",
   "pygments_lexer": "ipython3",
   "version": "3.8.5"
  }
 },
 "nbformat": 4,
 "nbformat_minor": 5
}
